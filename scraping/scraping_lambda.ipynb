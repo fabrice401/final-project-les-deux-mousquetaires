{
 "cells": [
  {
   "cell_type": "code",
   "execution_count": 27,
   "metadata": {},
   "outputs": [],
   "source": [
    "import boto3\n",
    "import json\n",
    "\n",
    "sns = boto3.client('sns')\n",
    "aws_lambda = boto3.client('lambda')\n",
    "iam_client = boto3.client('iam')\n",
    "role = iam_client.get_role(RoleName='LabRole')\n",
    "s3 = boto3.resource('s3')\n",
    "s3_client = boto3.client('s3')"
   ]
  },
  {
   "cell_type": "code",
   "execution_count": 4,
   "metadata": {},
   "outputs": [],
   "source": [
    "# Create S3\n",
    "bucket_name = 'patent-bucket-raw'\n",
    "try:\n",
    "    response = s3.create_bucket(Bucket=bucket_name)\n",
    "except s3_client.exceptions.BucketAlreadyExists:\n",
    "    response = s3_client.list_buckets()\n"
   ]
  },
  {
   "cell_type": "code",
   "execution_count": 28,
   "metadata": {},
   "outputs": [],
   "source": [
    "# Create Lambda Function\n",
    "with open('lambda_function.zip', 'rb') as f:\n",
    "    lambda_zip = f.read()\n",
    "\n",
    "try:\n",
    "    # If function hasn't yet been created, create it\n",
    "    response = aws_lambda.create_function(\n",
    "        FunctionName='scarping_patent',\n",
    "        Runtime='python3.9',\n",
    "        Role=role['Role']['Arn'],\n",
    "        Handler='lambda_function.lambda_handler',\n",
    "        Code=dict(ZipFile=lambda_zip),\n",
    "        Timeout=10\n",
    "    )\n",
    "except aws_lambda.exceptions.ResourceConflictException:\n",
    "    # If function already exists, update it based on zip\n",
    "    # file contents\n",
    "    response = aws_lambda.update_function_code(\n",
    "    FunctionName='scarping_patent',\n",
    "    ZipFile=lambda_zip\n",
    "    )\n",
    "\n",
    "# Get Lambda Function ARN and Role ARN\n",
    "lambda_arn = [f['FunctionArn']\n",
    "                for f in aws_lambda.list_functions()['Functions']\n",
    "                if f['FunctionName'] == 'scarping_patent'][0]\n",
    "\n",
    "# Restrict the number of concurrent executions to 10\n",
    "response = aws_lambda.put_function_concurrency(\n",
    "        FunctionName='scarping_patent',\n",
    "        ReservedConcurrentExecutions=10\n",
    "    )"
   ]
  },
  {
   "cell_type": "code",
   "execution_count": 29,
   "metadata": {},
   "outputs": [],
   "source": [
    "# This creates a Step Function which orchestrates more complicated workflows\n",
    "## In this case, it runs multiple Lambda functions in parallel\n",
    "sfn = boto3.client('stepfunctions')\n",
    "\n",
    "def make_def(lambda_arn):\n",
    "    definition = {\n",
    "      \"Comment\": \"My State Machine\",\n",
    "      \"StartAt\": \"Map\",\n",
    "      \"States\": {\n",
    "        \"Map\": {\n",
    "          \"Type\": \"Map\",\n",
    "          \"End\": True,\n",
    "          \"MaxConcurrency\": 10,\n",
    "          \"Iterator\": {\n",
    "            \"StartAt\": \"Lambda Invoke\",\n",
    "            \"States\": {\n",
    "              \"Lambda Invoke\": {\n",
    "                \"Type\": \"Task\",\n",
    "                \"Resource\": \"arn:aws:states:::lambda:invoke\",\n",
    "                \"OutputPath\": \"$.Payload\",\n",
    "                \"Parameters\": {\n",
    "                  \"Payload.$\": \"$\",\n",
    "                  \"FunctionName\": lambda_arn\n",
    "                },\n",
    "                \"Retry\": [\n",
    "                  {\n",
    "                    \"ErrorEquals\": [\n",
    "                      \"Lambda.ServiceException\",\n",
    "                      \"Lambda.AWSLambdaException\",\n",
    "                      \"Lambda.SdkClientException\",\n",
    "                      \"Lambda.TooManyRequestsException\",\n",
    "                      \"States.TaskFailed\"\n",
    "                    ],\n",
    "                    \"IntervalSeconds\": 2,\n",
    "                    \"MaxAttempts\": 6,\n",
    "                    \"BackoffRate\": 2\n",
    "                  }\n",
    "                ],\n",
    "                \"End\": True\n",
    "              }\n",
    "            }\n",
    "          }\n",
    "        }\n",
    "      }\n",
    "    }\n",
    "    return definition"
   ]
  },
  {
   "cell_type": "code",
   "execution_count": 30,
   "metadata": {},
   "outputs": [],
   "source": [
    "sf_def = make_def(lambda_arn)\n",
    "\n",
    "# Create new State machine\n",
    "try:\n",
    "    response = sfn.create_state_machine(\n",
    "        name='patent_machine',\n",
    "        definition=json.dumps(sf_def),\n",
    "        roleArn=role['Role']['Arn'],\n",
    "        type='EXPRESS'\n",
    "    )\n",
    "except sfn.exceptions.StateMachineAlreadyExists:\n",
    "    response = sfn.list_state_machines()\n",
    "    state_machine_arn = [sm['stateMachineArn'] \n",
    "                         for sm in response['stateMachines'] \n",
    "                         if sm['name'] == 'test_step_machine'][0]\n",
    "    response = sfn.update_state_machine(\n",
    "        stateMachineArn=state_machine_arn,\n",
    "        definition=json.dumps(sf_def),\n",
    "        roleArn=role['Role']['Arn']\n",
    "    )"
   ]
  },
  {
   "cell_type": "code",
   "execution_count": 31,
   "metadata": {},
   "outputs": [
    {
     "data": {
      "text/plain": [
       "{'stateMachines': [{'stateMachineArn': 'arn:aws:states:us-east-1:840177592390:stateMachine:patent_machine',\n",
       "   'name': 'patent_machine',\n",
       "   'type': 'EXPRESS',\n",
       "   'creationDate': datetime.datetime(2024, 5, 6, 20, 30, 8, 49000, tzinfo=tzlocal())}],\n",
       " 'ResponseMetadata': {'RequestId': '953f7aa8-1abf-42b8-9ad6-40e35ea584dd',\n",
       "  'HTTPStatusCode': 200,\n",
       "  'HTTPHeaders': {'x-amzn-requestid': '953f7aa8-1abf-42b8-9ad6-40e35ea584dd',\n",
       "   'date': 'Tue, 07 May 2024 01:32:35 GMT',\n",
       "   'content-type': 'application/x-amz-json-1.0',\n",
       "   'content-length': '180',\n",
       "   'connection': 'keep-alive'},\n",
       "  'RetryAttempts': 0}}"
      ]
     },
     "execution_count": 31,
     "metadata": {},
     "output_type": "execute_result"
    }
   ],
   "source": [
    "response = sfn.list_state_machines()\n",
    "response"
   ]
  },
  {
   "cell_type": "code",
   "execution_count": 32,
   "metadata": {},
   "outputs": [
    {
     "name": "stdout",
     "output_type": "stream",
     "text": [
      "[{'ids': ['US-10171659-B2', 'US-2019012595-A1'], 'result_links': ['https://patents.google.com/patent/US10171659B2/en', 'https://patents.google.com/patent/US20190012595A1/en']}, {'ids': ['US-2019018692-A1', 'US-2019005195-A1'], 'result_links': ['https://patents.google.com/patent/US20190018692A1/en', 'https://patents.google.com/patent/US20190005195A1/en']}, {'ids': ['US-10192163-B2', 'US-10186155-B2'], 'result_links': ['https://patents.google.com/patent/US10192163B2/en', 'https://patents.google.com/patent/US10186155B2/en']}, {'ids': ['US-2019034192-A1', 'US-2019034198-A1'], 'result_links': ['https://patents.google.com/patent/US20190034192A1/en', 'https://patents.google.com/patent/US20190034198A1/en']}, {'ids': ['US-2019034256-A1'], 'result_links': ['https://patents.google.com/patent/US20190034256A1/en']}]\n"
     ]
    }
   ],
   "source": [
    "import pandas as pd\n",
    "import numpy as np\n",
    "\n",
    "def split_csv_to_json(csv_path, n):\n",
    "    # 读取 CSV 文件\n",
    "    data = pd.read_csv(csv_path)\n",
    "    \n",
    "    # 去除 'id' 和 'result_link' 列中含有缺失值的行\n",
    "    data.dropna(subset=['id', 'result link'], inplace=True)\n",
    "    \n",
    "    # 计算每个分割的理想大小\n",
    "    chunk_size = len(data) // n\n",
    "    remainder = len(data) % n\n",
    "\n",
    "    # 创建一个空列表来存储最终的 JSON 对象\n",
    "    json_list = []\n",
    "    \n",
    "    # 分割数据并处理每一部分\n",
    "    for i in range(n):\n",
    "        # 如果最后一块，包括所有剩余的行\n",
    "        if i < remainder:\n",
    "            part_data = data.iloc[i * (chunk_size + 1):(i + 1) * (chunk_size + 1)]\n",
    "        else:\n",
    "            start_idx = remainder * (chunk_size + 1) + (i - remainder) * chunk_size\n",
    "            end_idx = start_idx + chunk_size\n",
    "            part_data = data.iloc[start_idx:end_idx]\n",
    "        \n",
    "        # 从部分数据中提取 'id' 和 'result_link' 列\n",
    "        ids = part_data['id'].tolist()\n",
    "        links = part_data['result link'].tolist()\n",
    "        \n",
    "        # 创建一个 JSON 对象\n",
    "        json_obj = {'ids': ids, 'result_links': links}\n",
    "        \n",
    "        # 将 JSON 对象转换为字符串并添加到列表中\n",
    "        json_list.append(json_obj)\n",
    "    \n",
    "    return json_list\n",
    "\n",
    "# 示例用法\n",
    "json_output = split_csv_to_json('all_patents_link.csv', 5)\n",
    "print(json_output)\n"
   ]
  },
  {
   "cell_type": "code",
   "execution_count": 25,
   "metadata": {},
   "outputs": [],
   "source": [
    "json1 = json_output[0]"
   ]
  },
  {
   "cell_type": "code",
   "execution_count": 19,
   "metadata": {},
   "outputs": [],
   "source": [
    "r = aws_lambda.invoke(FunctionName='scarping_patent',\n",
    "                      InvocationType='RequestResponse',\n",
    "                      Payload=json.dumps(json1))\n",
    "json.loads(r['Payload'].read()) # print out response"
   ]
  },
  {
   "cell_type": "code",
   "execution_count": 33,
   "metadata": {},
   "outputs": [
    {
     "name": "stdout",
     "output_type": "stream",
     "text": [
      "[null,null,null,null,null]\n"
     ]
    }
   ],
   "source": [
    "state_machine_arn = [sm['stateMachineArn'] \n",
    "                     for sm in response['stateMachines'] \n",
    "                     if sm['name'] == 'patent_machine'][0]\n",
    "\n",
    "# Call Lambda functions 10 times in parallel\n",
    "sfn_response = sfn.start_sync_execution(\n",
    "    stateMachineArn=state_machine_arn,\n",
    "    name='sync_test',\n",
    "    input=json.dumps(json_output)\n",
    ")\n",
    "\n",
    "print(sfn_response['output'])"
   ]
  },
  {
   "cell_type": "code",
   "execution_count": 26,
   "metadata": {},
   "outputs": [
    {
     "name": "stdout",
     "output_type": "stream",
     "text": [
      "AWS Lambda Function Already Deleted\n",
      "Event source mappings deleted\n"
     ]
    }
   ],
   "source": [
    "# Delete each pipeline component if it still exists:\n",
    "# Lambda\n",
    "try:\n",
    "    aws_lambda.delete_function(FunctionName=\"scraping_patent\")\n",
    "    print(\"Lambda Function Deleted\")\n",
    "except aws_lambda.exceptions.ResourceNotFoundException:\n",
    "    print(\"AWS Lambda Function Already Deleted\")\n",
    "    \n",
    "event_source_uuids = [mapping['UUID'] for mapping in aws_lambda.list_event_source_mappings()['EventSourceMappings']]\n",
    "for uuid in event_source_uuids:\n",
    "    aws_lambda.delete_event_source_mapping(UUID=uuid)\n",
    "print(\"Event source mappings deleted\")\n",
    "\n",
    "# State Machine\n",
    "try:\n",
    "    sfn.delete_state_machine(stateMachineArn=state_machine_arn)\n",
    "    print(\"State Machine Deleted\")\n",
    "except sfn.exceptions.StateMachineDoesNotExist:\n",
    "    print(\"State Machine Already Deleted\")\n"
   ]
  },
  {
   "cell_type": "code",
   "execution_count": 34,
   "metadata": {},
   "outputs": [
    {
     "data": {
      "text/plain": [
       "{'ResponseMetadata': {'RequestId': '0E5GWJ78YHVZV299',\n",
       "  'HostId': '5ZRmMF55A7bGBMR0om9BtNIpnl8e25f7ucxpiYfb+H4+rESq/+Xn/5ugu6uohq/V7ly3N/03m3U=',\n",
       "  'HTTPStatusCode': 204,\n",
       "  'HTTPHeaders': {'x-amz-id-2': '5ZRmMF55A7bGBMR0om9BtNIpnl8e25f7ucxpiYfb+H4+rESq/+Xn/5ugu6uohq/V7ly3N/03m3U=',\n",
       "   'x-amz-request-id': '0E5GWJ78YHVZV299',\n",
       "   'date': 'Tue, 07 May 2024 01:37:05 GMT',\n",
       "   'server': 'AmazonS3'},\n",
       "  'RetryAttempts': 0}}"
      ]
     },
     "execution_count": 34,
     "metadata": {},
     "output_type": "execute_result"
    }
   ],
   "source": [
    "# Delet S3\n",
    "bucket = s3.Bucket(bucket_name)\n",
    "bucket.objects.all().delete()\n",
    "bucket.delete()"
   ]
  },
  {
   "cell_type": "code",
   "execution_count": null,
   "metadata": {},
   "outputs": [],
   "source": []
  }
 ],
 "metadata": {
  "kernelspec": {
   "display_name": "base",
   "language": "python",
   "name": "python3"
  },
  "language_info": {
   "codemirror_mode": {
    "name": "ipython",
    "version": 3
   },
   "file_extension": ".py",
   "mimetype": "text/x-python",
   "name": "python",
   "nbconvert_exporter": "python",
   "pygments_lexer": "ipython3",
   "version": "3.11.4"
  }
 },
 "nbformat": 4,
 "nbformat_minor": 2
}
